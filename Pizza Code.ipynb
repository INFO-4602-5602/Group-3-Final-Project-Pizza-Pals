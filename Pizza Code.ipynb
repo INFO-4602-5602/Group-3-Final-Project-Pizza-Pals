{
 "cells": [
  {
   "cell_type": "code",
   "execution_count": 70,
   "metadata": {},
   "outputs": [],
   "source": [
    "PizzaToppings = [\"pepperoni\",\"salami\",\"sausage\",\"ham\",\"chicken\",\"ground beef\",\"cheesesteak\",\"bacon\",\"onions\",\"pineapple\",\"arugula\",\"mushroom\",\"olives\",\"peppers\",\"spinach\",\"oil\",\"pickle\",\"tomatoes\",\"broccoli\",\"ricotta\",\"feta\",\"parmesan\",\"mozzarella\",\"cheddar\"]\n",
    "\n",
    "def PizzaAnalysis(style):\n",
    "    ToppingsCount = 0\n",
    "    PizzaFile = open(\"Datafiniti_Pizza_Restaurants_and_the_Pizza_They_Sell_May19.csv\",\"r\", encoding='utf8')\n",
    "    header = PizzaFile.readline().rstrip(\"\\n\")\n",
    "    \n",
    "    for line in PizzaFile:\n",
    "        line = line.rstrip()\n",
    "        splitItems = line.split(\",\")\n",
    "        #print(splitItems[20])\n",
    "\n",
    "        if style in (splitItems[20].lower()):\n",
    "            ToppingsCount += 1\n",
    "    return ToppingsCount\n",
    "    "
   ]
  },
  {
   "cell_type": "code",
   "execution_count": 71,
   "metadata": {},
   "outputs": [
    {
     "name": "stdout",
     "output_type": "stream",
     "text": [
      "The pizza topping pepperoni showed up 166\n",
      " times \n",
      "The pizza topping salami showed up 23\n",
      " times \n",
      "The pizza topping capricolla showed up 0\n",
      " times \n",
      "The pizza topping sausage showed up 112\n",
      " times \n",
      "The pizza topping ham showed up 76\n",
      " times \n",
      "The pizza topping chicken showed up 222\n",
      " times \n",
      "The pizza topping ground beef showed up 16\n",
      " times \n",
      "The pizza topping cheesesteak showed up 2\n",
      " times \n",
      "The pizza topping bacon showed up 104\n",
      " times \n",
      "The pizza topping onions showed up 143\n",
      " times \n",
      "The pizza topping pineapple showed up 39\n",
      " times \n",
      "The pizza topping arugula showed up 13\n",
      " times \n",
      "The pizza topping mushroom showed up 157\n",
      " times \n",
      "The pizza topping olives showed up 66\n",
      " times \n",
      "The pizza topping peppers showed up 95\n",
      " times \n",
      "The pizza topping spinach showed up 61\n",
      " times \n",
      "The pizza topping oil showed up 45\n",
      " times \n",
      "The pizza topping pickle showed up 1\n",
      " times \n",
      "The pizza topping tomatoes showed up 104\n",
      " times \n",
      "The pizza topping broccoli showed up 19\n",
      " times \n",
      "The pizza topping ricotta showed up 27\n",
      " times \n",
      "The pizza topping feta showed up 24\n",
      " times \n",
      "The pizza topping parmesan showed up 47\n",
      " times \n",
      "The pizza topping mozzarella showed up 259\n",
      " times \n",
      "The pizza topping cheddar showed up 24\n",
      " times \n"
     ]
    }
   ],
   "source": [
    "for topping in PizzaToppings:\n",
    "    print(\"The pizza topping \"+str(topping)+\" showed up \"+str(PizzaAnalysis(topping)))\n",
    "#     PizzaAnalysis(topping) \n",
    "#     print(ToppingsCount)\n",
    "    print(\" times \")"
   ]
  },
  {
   "cell_type": "code",
   "execution_count": null,
   "metadata": {},
   "outputs": [],
   "source": []
  }
 ],
 "metadata": {
  "kernelspec": {
   "display_name": "Python 3",
   "language": "python",
   "name": "python3"
  },
  "language_info": {
   "codemirror_mode": {
    "name": "ipython",
    "version": 3
   },
   "file_extension": ".py",
   "mimetype": "text/x-python",
   "name": "python",
   "nbconvert_exporter": "python",
   "pygments_lexer": "ipython3",
   "version": "3.7.3"
  }
 },
 "nbformat": 4,
 "nbformat_minor": 2
}
